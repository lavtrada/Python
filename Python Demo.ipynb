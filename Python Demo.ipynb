{
  "nbformat": 4,
  "nbformat_minor": 0,
  "metadata": {
    "colab": {
      "provenance": [],
      "authorship_tag": "ABX9TyPXvyHBHBmsZg7ScCv6xdm6",
      "include_colab_link": true
    },
    "kernelspec": {
      "name": "python3",
      "display_name": "Python 3"
    },
    "language_info": {
      "name": "python"
    }
  },
  "cells": [
    {
      "cell_type": "markdown",
      "metadata": {
        "id": "view-in-github",
        "colab_type": "text"
      },
      "source": [
        "<a href=\"https://colab.research.google.com/github/lavtrada/Python/blob/main/Python%20Demo.ipynb\" target=\"_parent\"><img src=\"https://colab.research.google.com/assets/colab-badge.svg\" alt=\"Open In Colab\"/></a>"
      ]
    },
    {
      "cell_type": "code",
      "execution_count": null,
      "metadata": {
        "colab": {
          "base_uri": "https://localhost:8080/"
        },
        "id": "8P0G2cns9HrB",
        "outputId": "0e233a58-8819-467f-a435-afa13d96447d"
      },
      "outputs": [
        {
          "output_type": "stream",
          "name": "stdout",
          "text": [
            "Hello World\n"
          ]
        }
      ],
      "source": [
        "print(\"Hello World\")"
      ]
    },
    {
      "cell_type": "code",
      "source": [
        "if (2>5):\n",
        "  print(\"five is greater then two\")\n",
        "else:\n",
        "  print(\"two is greater then five \")"
      ],
      "metadata": {
        "colab": {
          "base_uri": "https://localhost:8080/"
        },
        "id": "5QzQ3Jo9Gg-O",
        "outputId": "bf568a24-07d0-4242-9a5f-f121d025bf5a"
      },
      "execution_count": null,
      "outputs": [
        {
          "output_type": "stream",
          "name": "stdout",
          "text": [
            "two is greater then five \n"
          ]
        }
      ]
    },
    {
      "cell_type": "code",
      "source": [
        "x=5;\n",
        "\n",
        "j=5j\n",
        "print(type(j))\n",
        "print(type(x))"
      ],
      "metadata": {
        "colab": {
          "base_uri": "https://localhost:8080/"
        },
        "id": "5NLtWkHvHL1k",
        "outputId": "2c496d19-c73a-43d5-90ba-d0d01e4fe338"
      },
      "execution_count": null,
      "outputs": [
        {
          "output_type": "stream",
          "name": "stdout",
          "text": [
            "<class 'complex'>\n",
            "<class 'int'>\n"
          ]
        }
      ]
    },
    {
      "cell_type": "code",
      "source": [
        "fruits=['apple','mango']\n",
        "x,y=fruits\n",
        "print(x)\n",
        "print(y)"
      ],
      "metadata": {
        "colab": {
          "base_uri": "https://localhost:8080/"
        },
        "id": "SJtXHvJsH1wv",
        "outputId": "31994e2a-1813-4d86-cd57-0a7aac136ade"
      },
      "execution_count": null,
      "outputs": [
        {
          "output_type": "stream",
          "name": "stdout",
          "text": [
            "apple\n",
            "mango\n"
          ]
        }
      ]
    },
    {
      "cell_type": "code",
      "source": [
        "x = \"Python \"\n",
        "y = \"is \"\n",
        "z = \"awesome\"\n",
        "print(x+y+z)"
      ],
      "metadata": {
        "colab": {
          "base_uri": "https://localhost:8080/"
        },
        "id": "qa8SFo0aITek",
        "outputId": "5c82831c-9a4b-46c3-d9a3-e9de94f6c0b9"
      },
      "execution_count": null,
      "outputs": [
        {
          "output_type": "stream",
          "name": "stdout",
          "text": [
            "Python is awesome\n"
          ]
        }
      ]
    },
    {
      "cell_type": "code",
      "source": [
        "from ast import main\n",
        "fruit_tuple=('mango','apple')\n",
        "print(fruit_tuple)"
      ],
      "metadata": {
        "colab": {
          "base_uri": "https://localhost:8080/"
        },
        "id": "VYAGI4vIIYDF",
        "outputId": "f15582e8-4780-46c3-83e7-5dbce315c918"
      },
      "execution_count": null,
      "outputs": [
        {
          "output_type": "stream",
          "name": "stdout",
          "text": [
            "('mango', 'apple')\n"
          ]
        }
      ]
    },
    {
      "cell_type": "code",
      "source": [
        "b=\"Hello   World\"\n",
        "print(b[:5])"
      ],
      "metadata": {
        "colab": {
          "base_uri": "https://localhost:8080/"
        },
        "id": "UEEdYu0mJfKo",
        "outputId": "02bb0d8f-dc86-4ff3-95a3-3ef969269c3e"
      },
      "execution_count": null,
      "outputs": [
        {
          "output_type": "stream",
          "name": "stdout",
          "text": [
            "Hello\n"
          ]
        }
      ]
    },
    {
      "cell_type": "markdown",
      "source": [
        "print(b.strip())"
      ],
      "metadata": {
        "id": "oRHRXtYmK4DY"
      }
    },
    {
      "cell_type": "code",
      "source": [
        "txt=\"hello world \"\n",
        "print(txt)\n",
        "ans=len(txt)\n",
        "print(ans)\n"
      ],
      "metadata": {
        "colab": {
          "base_uri": "https://localhost:8080/"
        },
        "id": "VUObph4zLH9Y",
        "outputId": "72d01bc3-22ab-4526-aa83-db7b52b4aaa1"
      },
      "execution_count": null,
      "outputs": [
        {
          "output_type": "stream",
          "name": "stdout",
          "text": [
            "hello world \n",
            "12\n"
          ]
        }
      ]
    },
    {
      "cell_type": "code",
      "source": [
        "print(5>2)\n",
        "str=\"hello\"\n",
        "hre=\"world\"\n",
        "print(str==hre)\n"
      ],
      "metadata": {
        "colab": {
          "base_uri": "https://localhost:8080/"
        },
        "id": "DUy9lJYHMwDf",
        "outputId": "4f954b43-e67f-4127-dbcb-aa072c1fdb87"
      },
      "execution_count": null,
      "outputs": [
        {
          "output_type": "stream",
          "name": "stdout",
          "text": [
            "True\n",
            "False\n"
          ]
        }
      ]
    },
    {
      "cell_type": "code",
      "source": [
        "my_list=[5,50,40,\"str\",\"edw\"]\n",
        "my_list[0]=50\n",
        "my_list.append(4);\n",
        "my_list.pop(1)\n",
        "print(my_list)\n",
        "print(my_list)\n",
        "print(type(my_list))\n",
        "print(my_list[-1])\n",
        "print(my_list[:3])"
      ],
      "metadata": {
        "colab": {
          "base_uri": "https://localhost:8080/"
        },
        "id": "GeI42EVENwRJ",
        "outputId": "e045ae27-0917-45e7-b933-8e5c2d92e47e"
      },
      "execution_count": null,
      "outputs": [
        {
          "output_type": "stream",
          "name": "stdout",
          "text": [
            "[50, 40, 'str', 'edw', 4]\n",
            "[50, 40, 'str', 'edw', 4]\n",
            "<class 'list'>\n",
            "4\n",
            "[50, 40, 'str']\n"
          ]
        }
      ]
    },
    {
      "cell_type": "code",
      "source": [
        "my_list=[1,2,3,4,5,6]\n",
        "print(my_list[-4:-1])\n",
        "if 100 in my_list:\n",
        "  print(\"10 is present\")"
      ],
      "metadata": {
        "colab": {
          "base_uri": "https://localhost:8080/"
        },
        "id": "4N1ORYZDPxE0",
        "outputId": "fadf2f65-2640-4898-fbd0-20b874227b8a"
      },
      "execution_count": null,
      "outputs": [
        {
          "output_type": "stream",
          "name": "stdout",
          "text": [
            "[15, 20, 25]\n"
          ]
        }
      ]
    },
    {
      "cell_type": "code",
      "source": [
        "my_list[1:3]=[\"10\",\"20\"]\n",
        "print(my_list)\n",
        "my_list.append(\"orange\")\n",
        "my_list.insert(0,\"mango\")\n",
        "print(my_list)\n",
        "my_list2=[2,5,4,5]\n",
        "my_list.extend(my_list2)\n",
        "print(my_list)"
      ],
      "metadata": {
        "colab": {
          "base_uri": "https://localhost:8080/"
        },
        "id": "2yJY0S9zQltm",
        "outputId": "6165fee5-c5c2-4c64-f6ae-6be6a8fcce52"
      },
      "execution_count": null,
      "outputs": [
        {
          "output_type": "stream",
          "name": "stdout",
          "text": [
            "['mango', '10', '20', '20', '20', '20', '20', '20', '20', '20', 20, 25, 30, 'orange', 'orange', 'orange', 'orange', 'orange', 'orange', 'orange', 2, 5, 4, 5, 'orange', 2, 5, 4, 5, 'orange', 2, 5, 4, 5]\n",
            "['mango', 'mango', '10', '20', '20', '20', '20', '20', '20', '20', '20', 20, 25, 30, 'orange', 'orange', 'orange', 'orange', 'orange', 'orange', 'orange', 2, 5, 4, 5, 'orange', 2, 5, 4, 5, 'orange', 2, 5, 4, 5, 'orange']\n",
            "['mango', 'mango', '10', '20', '20', '20', '20', '20', '20', '20', '20', 20, 25, 30, 'orange', 'orange', 'orange', 'orange', 'orange', 'orange', 'orange', 2, 5, 4, 5, 'orange', 2, 5, 4, 5, 'orange', 2, 5, 4, 5, 'orange', 2, 5, 4, 5]\n"
          ]
        }
      ]
    },
    {
      "cell_type": "code",
      "source": [
        "thislist=[\"Hello\",\"World\"]\n",
        "thistuple=('disteny')\n",
        "thislist.extend(thistuple)\n",
        "print(thislist)"
      ],
      "metadata": {
        "colab": {
          "base_uri": "https://localhost:8080/"
        },
        "id": "mhSXsPweSR3K",
        "outputId": "bb421d63-1e13-4d15-debc-3b9d3f5dd39b"
      },
      "execution_count": null,
      "outputs": [
        {
          "output_type": "stream",
          "name": "stdout",
          "text": [
            "['Hello', 'World', 'd', 'i', 's', 't', 'e', 'n', 'y']\n"
          ]
        }
      ]
    },
    {
      "cell_type": "code",
      "source": [
        "print(thislist)\n",
        "thislist.pop()\n",
        "print(thislist)\n",
        "thislist.remove(\"Hello\")\n",
        "del thislist\n",
        "print(thislist)"
      ],
      "metadata": {
        "colab": {
          "base_uri": "https://localhost:8080/",
          "height": 245
        },
        "id": "I1DhmLu8SahC",
        "outputId": "9cf16448-ac6c-4df3-9742-9ee7e1b210da"
      },
      "execution_count": null,
      "outputs": [
        {
          "output_type": "stream",
          "name": "stdout",
          "text": [
            "['World', 'd', 'i', 's', 't', 'e']\n",
            "['World', 'd', 'i', 's', 't']\n"
          ]
        },
        {
          "output_type": "error",
          "ename": "ValueError",
          "evalue": "list.remove(x): x not in list",
          "traceback": [
            "\u001b[0;31m---------------------------------------------------------------------------\u001b[0m",
            "\u001b[0;31mValueError\u001b[0m                                Traceback (most recent call last)",
            "\u001b[0;32m<ipython-input-73-bfc3850748c8>\u001b[0m in \u001b[0;36m<cell line: 4>\u001b[0;34m()\u001b[0m\n\u001b[1;32m      2\u001b[0m \u001b[0mthislist\u001b[0m\u001b[0;34m.\u001b[0m\u001b[0mpop\u001b[0m\u001b[0;34m(\u001b[0m\u001b[0;34m)\u001b[0m\u001b[0;34m\u001b[0m\u001b[0;34m\u001b[0m\u001b[0m\n\u001b[1;32m      3\u001b[0m \u001b[0mprint\u001b[0m\u001b[0;34m(\u001b[0m\u001b[0mthislist\u001b[0m\u001b[0;34m)\u001b[0m\u001b[0;34m\u001b[0m\u001b[0;34m\u001b[0m\u001b[0m\n\u001b[0;32m----> 4\u001b[0;31m \u001b[0mthislist\u001b[0m\u001b[0;34m.\u001b[0m\u001b[0mremove\u001b[0m\u001b[0;34m(\u001b[0m\u001b[0;34m\"Hello\"\u001b[0m\u001b[0;34m)\u001b[0m\u001b[0;34m\u001b[0m\u001b[0;34m\u001b[0m\u001b[0m\n\u001b[0m\u001b[1;32m      5\u001b[0m \u001b[0;32mdel\u001b[0m \u001b[0mthislist\u001b[0m\u001b[0;34m\u001b[0m\u001b[0;34m\u001b[0m\u001b[0m\n\u001b[1;32m      6\u001b[0m \u001b[0mprint\u001b[0m\u001b[0;34m(\u001b[0m\u001b[0mthislist\u001b[0m\u001b[0;34m)\u001b[0m\u001b[0;34m\u001b[0m\u001b[0;34m\u001b[0m\u001b[0m\n",
            "\u001b[0;31mValueError\u001b[0m: list.remove(x): x not in list"
          ]
        }
      ]
    },
    {
      "cell_type": "code",
      "source": [
        "print(thislist)\n",
        "del thislist\n",
        "print(thislist)\n"
      ],
      "metadata": {
        "colab": {
          "base_uri": "https://localhost:8080/",
          "height": 211
        },
        "id": "T-mhssM4UWD4",
        "outputId": "4b08de11-eff2-43dc-cc13-b30cd700e87b"
      },
      "execution_count": null,
      "outputs": [
        {
          "output_type": "error",
          "ename": "NameError",
          "evalue": "name 'thislist' is not defined",
          "traceback": [
            "\u001b[0;31m---------------------------------------------------------------------------\u001b[0m",
            "\u001b[0;31mNameError\u001b[0m                                 Traceback (most recent call last)",
            "\u001b[0;32m<ipython-input-78-20499ebc056a>\u001b[0m in \u001b[0;36m<cell line: 1>\u001b[0;34m()\u001b[0m\n\u001b[0;32m----> 1\u001b[0;31m \u001b[0mprint\u001b[0m\u001b[0;34m(\u001b[0m\u001b[0mthislist\u001b[0m\u001b[0;34m)\u001b[0m\u001b[0;34m\u001b[0m\u001b[0;34m\u001b[0m\u001b[0m\n\u001b[0m\u001b[1;32m      2\u001b[0m \u001b[0;32mdel\u001b[0m \u001b[0mthislist\u001b[0m\u001b[0;34m\u001b[0m\u001b[0;34m\u001b[0m\u001b[0m\n\u001b[1;32m      3\u001b[0m \u001b[0mprint\u001b[0m\u001b[0;34m(\u001b[0m\u001b[0mthislist\u001b[0m\u001b[0;34m)\u001b[0m\u001b[0;34m\u001b[0m\u001b[0;34m\u001b[0m\u001b[0m\n\u001b[1;32m      4\u001b[0m \u001b[0mthislist\u001b[0m\u001b[0;34m=\u001b[0m\u001b[0;34m[\u001b[0m\u001b[0;36m1\u001b[0m\u001b[0;34m,\u001b[0m\u001b[0;36m2\u001b[0m\u001b[0;34m,\u001b[0m\u001b[0;36m3\u001b[0m\u001b[0;34m]\u001b[0m\u001b[0;34m\u001b[0m\u001b[0;34m\u001b[0m\u001b[0m\n\u001b[1;32m      5\u001b[0m \u001b[0mprint\u001b[0m\u001b[0;34m(\u001b[0m\u001b[0mthislist\u001b[0m\u001b[0;34m)\u001b[0m\u001b[0;34m\u001b[0m\u001b[0;34m\u001b[0m\u001b[0m\n",
            "\u001b[0;31mNameError\u001b[0m: name 'thislist' is not defined"
          ]
        }
      ]
    },
    {
      "cell_type": "code",
      "source": [
        "thislist=[1,2,3]\n",
        "# print(thislist)\n",
        "for i in range (len(thislist)):\n",
        "  if thislist[i]==2:\n",
        "    thislist[i]=20\n",
        "  print(thislist[i])\n"
      ],
      "metadata": {
        "colab": {
          "base_uri": "https://localhost:8080/"
        },
        "id": "gfuzzorxUsJO",
        "outputId": "40cbc340-28e1-427b-87a8-db11a8aa24b5"
      },
      "execution_count": null,
      "outputs": [
        {
          "output_type": "stream",
          "name": "stdout",
          "text": [
            "1\n",
            "20\n",
            "3\n"
          ]
        }
      ]
    },
    {
      "cell_type": "code",
      "source": [
        "thislist=[\"orange\",\"mango\",\"kiwi\",\"banana\"]\n",
        "thislist.sort()\n",
        "print(thislist)"
      ],
      "metadata": {
        "colab": {
          "base_uri": "https://localhost:8080/"
        },
        "id": "a5ow5NkTUs4B",
        "outputId": "ebd0986e-f5be-4e18-8213-bae53e1d24e3"
      },
      "execution_count": null,
      "outputs": [
        {
          "output_type": "stream",
          "name": "stdout",
          "text": [
            "['banana', 'kiwi', 'mango', 'orange']\n"
          ]
        }
      ]
    },
    {
      "cell_type": "code",
      "source": [
        "thistuple=(\"mango\",\"kiwi\",\"orange\",\"apple\")\n",
        "print(thistuple)\n",
        "thislist=list(thistuple)\n",
        "for x in range(len(thislist)):\n",
        "  if thislist[x]==\"mango\":\n",
        "    thislist[x]=\"Apple\"\n",
        "thistuple=tuple(thislist)\n",
        "print(thistuple)"
      ],
      "metadata": {
        "colab": {
          "base_uri": "https://localhost:8080/"
        },
        "id": "RmqhteQEZZ8K",
        "outputId": "5ceca4ac-b0b3-47f6-a4e1-f5e49f2177d6"
      },
      "execution_count": 93,
      "outputs": [
        {
          "output_type": "stream",
          "name": "stdout",
          "text": [
            "('mango', 'kiwi', 'orange', 'apple')\n",
            "('Apple', 'kiwi', 'orange', 'apple')\n"
          ]
        }
      ]
    },
    {
      "cell_type": "code",
      "source": [
        "mytuple=thistuple*2\n",
        "print(mytuple)"
      ],
      "metadata": {
        "colab": {
          "base_uri": "https://localhost:8080/"
        },
        "id": "ZWQHZDCpcR9S",
        "outputId": "efe6ae8d-2620-4a7c-a905-452e285b9367"
      },
      "execution_count": 94,
      "outputs": [
        {
          "output_type": "stream",
          "name": "stdout",
          "text": [
            "('Apple', 'kiwi', 'orange', 'apple', 'Apple', 'kiwi', 'orange', 'apple')\n"
          ]
        }
      ]
    },
    {
      "cell_type": "code",
      "source": [
        "for i in mytuple:\n",
        "  print(len(i))"
      ],
      "metadata": {
        "colab": {
          "base_uri": "https://localhost:8080/"
        },
        "id": "ilQc-Xiicpr1",
        "outputId": "3070d09e-f7ec-4e5f-d034-0a9710e6b8f9"
      },
      "execution_count": 102,
      "outputs": [
        {
          "output_type": "stream",
          "name": "stdout",
          "text": [
            "5\n",
            "4\n",
            "6\n",
            "5\n",
            "5\n",
            "4\n",
            "6\n",
            "5\n"
          ]
        }
      ]
    },
    {
      "cell_type": "code",
      "source": [
        "thislist=[11,22,22,33,33,44,55,66,66]\n",
        "thisset=set(thislist)\n",
        "print(thisset)\n",
        "thisset.discard(\"22\")\n",
        "print(thisset)"
      ],
      "metadata": {
        "colab": {
          "base_uri": "https://localhost:8080/"
        },
        "id": "o6x47dzceB7l",
        "outputId": "78ffa6fd-2b45-4d09-8c7b-a055e58f04c2"
      },
      "execution_count": 106,
      "outputs": [
        {
          "output_type": "stream",
          "name": "stdout",
          "text": [
            "{33, 66, 11, 44, 22, 55}\n",
            "{33, 66, 11, 44, 22, 55}\n"
          ]
        }
      ]
    },
    {
      "cell_type": "code",
      "source": [
        "thisset={1,2,3,4,4,5,5,5,5}\n",
        "thisset.discard(5)\n",
        "print(thisset)"
      ],
      "metadata": {
        "colab": {
          "base_uri": "https://localhost:8080/"
        },
        "id": "u5XAotKmfVWz",
        "outputId": "15ea1e1f-3064-4acf-ab70-845d684f08b8"
      },
      "execution_count": 108,
      "outputs": [
        {
          "output_type": "stream",
          "name": "stdout",
          "text": [
            "{1, 2, 3, 4}\n"
          ]
        }
      ]
    },
    {
      "cell_type": "code",
      "source": [
        "this1={1,2,3,4}\n",
        "this2={\"orange\",\"mango\"}\n",
        "this3=this1|this2\n",
        "print(this3)"
      ],
      "metadata": {
        "colab": {
          "base_uri": "https://localhost:8080/"
        },
        "id": "FzdpANvdfgun",
        "outputId": "b2251f29-1041-4c2c-fa55-85ada18500c8"
      },
      "execution_count": 109,
      "outputs": [
        {
          "output_type": "stream",
          "name": "stdout",
          "text": [
            "{1, 2, 3, 4, 'orange', 'mango'}\n"
          ]
        }
      ]
    },
    {
      "cell_type": "code",
      "source": [
        "thisdict={\"hello\":\"1\",\n",
        "          \"world\":\"2\"}\n",
        "print(thisdict)"
      ],
      "metadata": {
        "colab": {
          "base_uri": "https://localhost:8080/"
        },
        "id": "ZVsEUlBWga49",
        "outputId": "4ae03740-a17f-41e5-d9f4-26203124ebc4"
      },
      "execution_count": 111,
      "outputs": [
        {
          "output_type": "stream",
          "name": "stdout",
          "text": [
            "{'hello': '1', 'world': '2'}\n"
          ]
        }
      ]
    },
    {
      "cell_type": "code",
      "source": [
        "for i in range(5):\n",
        "  print(i)"
      ],
      "metadata": {
        "colab": {
          "base_uri": "https://localhost:8080/"
        },
        "id": "8NFX_sz8gq_I",
        "outputId": "902251c6-ba2b-4bed-a0d0-b4eadf0c9a2f"
      },
      "execution_count": 112,
      "outputs": [
        {
          "output_type": "stream",
          "name": "stdout",
          "text": [
            "0\n",
            "1\n",
            "2\n",
            "3\n",
            "4\n"
          ]
        }
      ]
    },
    {
      "cell_type": "code",
      "source": [
        "ans=lambda a,b:a+b\n",
        "print(ans(2,5))\n"
      ],
      "metadata": {
        "colab": {
          "base_uri": "https://localhost:8080/"
        },
        "id": "sXaGvSupigxT",
        "outputId": "ea0233bc-27e8-449d-9627-923c1bc45d2f"
      },
      "execution_count": 114,
      "outputs": [
        {
          "output_type": "stream",
          "name": "stdout",
          "text": [
            "7\n"
          ]
        }
      ]
    },
    {
      "cell_type": "code",
      "source": [
        "class Car:\n",
        "  def __init__(self,colour,size):\n",
        "    self.colour=colour;\n",
        "    self.size=size;\n",
        "c1=Car(\"red\",10)\n",
        "print(c1.colour)\n",
        "print(c1.size)\n"
      ],
      "metadata": {
        "colab": {
          "base_uri": "https://localhost:8080/"
        },
        "id": "WGOujY7klC_6",
        "outputId": "3693a938-dab7-443e-c388-8f8015d23c3c"
      },
      "execution_count": 120,
      "outputs": [
        {
          "output_type": "stream",
          "name": "stdout",
          "text": [
            "red\n",
            "10\n"
          ]
        }
      ]
    },
    {
      "cell_type": "code",
      "source": [
        "class Person:\n",
        "  def __init__(self,fname,fage):\n",
        "    self.name=fname\n",
        "    self.age=fage\n",
        "  def mufunc(self):\n",
        "    print(self.name)\n",
        "p1=Person(\"orange\",665)\n",
        "p1.mufunc()\n"
      ],
      "metadata": {
        "colab": {
          "base_uri": "https://localhost:8080/"
        },
        "id": "8KDESOsXmN6w",
        "outputId": "a4bf4e16-ed8c-4989-a52a-1f9db651ce75"
      },
      "execution_count": 125,
      "outputs": [
        {
          "output_type": "stream",
          "name": "stdout",
          "text": [
            "orange\n"
          ]
        }
      ]
    }
  ]
}
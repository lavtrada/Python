{
 "cells": [
  {
   "cell_type": "code",
   "execution_count": 1,
   "id": "4164f35c-a727-4ec6-a83b-fdf3de4ba918",
   "metadata": {},
   "outputs": [],
   "source": [
    "import re"
   ]
  },
  {
   "cell_type": "code",
   "execution_count": 2,
   "id": "22b430dc-d068-4e15-aeec-413c0653fd1c",
   "metadata": {},
   "outputs": [
    {
     "name": "stdout",
     "output_type": "stream",
     "text": [
      "C://destop\\nMydolder\n"
     ]
    }
   ],
   "source": [
    "mu_folder=r\"C://destop\\nMydolder\"\n",
    "print(mu_folder)"
   ]
  },
  {
   "cell_type": "code",
   "execution_count": 17,
   "id": "43833890-cec1-4fb5-8b82-2017d23b70fb",
   "metadata": {},
   "outputs": [
    {
     "name": "stdout",
     "output_type": "stream",
     "text": [
      "None\n"
     ]
    }
   ],
   "source": [
    "result_search=re.search(\"Hello World\",r\"I am Hello\")\n",
    "\n",
    "print(result_search)"
   ]
  },
  {
   "cell_type": "code",
   "execution_count": 69,
   "id": "5214ec55-da69-4339-85e0-e9df67df6bf6",
   "metadata": {},
   "outputs": [],
   "source": [
    "stringsexs=r\"Hello Guys, my self moons my friend is sun\""
   ]
  },
  {
   "cell_type": "code",
   "execution_count": null,
   "id": "fbf39b93-6874-4a44-a2fd-d9bb164703a1",
   "metadata": {
    "scrolled": true
   },
   "outputs": [],
   "source": [
    "new_string=re.sub(r\"my\",r\"sunscvbnm,vbnm,\",strings)\n",
    "print(new_string)"
   ]
  },
  {
   "cell_type": "code",
   "execution_count": 153,
   "id": "59c52ae3-f30d-4ebf-83f7-cf0d795697f6",
   "metadata": {},
   "outputs": [],
   "source": [
    "customer_reviews = ['asam was a great help to me in the store', \n",
    "                    'the cashier was very rude to me, I think her name was eleanor', \n",
    "                    'amazing work from sadeen!', \n",
    "                    'sarah was able to help me find the i&tems i needed quickly', \n",
    "                    'lucy is such a great addition to the team', \n",
    "                    'great service from sara she found me what i wanted'\n",
    "                   ]"
   ]
  },
  {
   "cell_type": "code",
   "execution_count": 113,
   "id": "3a28682b-f2d2-49b2-8d3b-f161ca1c8a04",
   "metadata": {},
   "outputs": [],
   "source": [
    "sarah_review=[]"
   ]
  },
  {
   "cell_type": "code",
   "execution_count": 115,
   "id": "7d1cbe0c-e151-4c11-ac59-82047d3242e0",
   "metadata": {},
   "outputs": [],
   "source": [
    "pattern_to_find=r\"sarah?\""
   ]
  },
  {
   "cell_type": "code",
   "execution_count": 117,
   "id": "6a1ac4c2-5a5b-4c82-bdea-defc9752b386",
   "metadata": {},
   "outputs": [],
   "source": [
    "for string in customer_reviews:\n",
    "    if(re.search(pattern_to_find,string)):\n",
    "        sarah_review.append(string)"
   ]
  },
  {
   "cell_type": "code",
   "execution_count": 119,
   "id": "55afe9c1-10f8-4a35-bc8a-b1a12a114edd",
   "metadata": {},
   "outputs": [
    {
     "name": "stdout",
     "output_type": "stream",
     "text": [
      "['sarah was able to help me find the items i needed quickly', 'great service from sara she found me what i wanted']\n"
     ]
    }
   ],
   "source": [
    "print(sarah_review)"
   ]
  },
  {
   "cell_type": "code",
   "execution_count": 121,
   "id": "536bdd11-c08c-4fed-bba8-7619fe66522c",
   "metadata": {},
   "outputs": [],
   "source": [
    "a_review=[]"
   ]
  },
  {
   "cell_type": "code",
   "execution_count": 123,
   "id": "9fe12f66-73ba-4d22-9c76-0c79a329d3cc",
   "metadata": {},
   "outputs": [],
   "source": [
    "pattern_to_find=r\"^a\""
   ]
  },
  {
   "cell_type": "code",
   "execution_count": 125,
   "id": "8db8a113-4b00-4eb1-93bd-387b7218facb",
   "metadata": {},
   "outputs": [],
   "source": [
    "for string in customer_reviews:\n",
    "    if(re.search(pattern_to_find,string)):\n",
    "        a_review.append(string)"
   ]
  },
  {
   "cell_type": "code",
   "execution_count": 127,
   "id": "3883b756-1dee-45d8-bd7e-4afd7f12532e",
   "metadata": {},
   "outputs": [
    {
     "name": "stdout",
     "output_type": "stream",
     "text": [
      "['asam was a great help to me in the store', 'amazing work from sadeen!']\n"
     ]
    }
   ],
   "source": [
    "print(a_review)"
   ]
  },
  {
   "cell_type": "code",
   "execution_count": 133,
   "id": "114f5a5b-0b0f-4d88-a7fc-7238a0118119",
   "metadata": {},
   "outputs": [],
   "source": [
    "y_review=[]"
   ]
  },
  {
   "cell_type": "code",
   "execution_count": 129,
   "id": "213455b6-62d0-40f7-8cc8-d0600cdfcb43",
   "metadata": {},
   "outputs": [],
   "source": [
    "pattern_to_find=r\"y$\""
   ]
  },
  {
   "cell_type": "code",
   "execution_count": 135,
   "id": "804fe219-0d24-4808-9430-bca1cfd105b6",
   "metadata": {},
   "outputs": [],
   "source": [
    "for string in customer_reviews:\n",
    "    if(re.search(pattern_to_find,string)):\n",
    "        y_review.append(string)\n",
    "                "
   ]
  },
  {
   "cell_type": "code",
   "execution_count": 137,
   "id": "290d7583-2205-4da7-bbe9-f199433e3bc5",
   "metadata": {},
   "outputs": [
    {
     "name": "stdout",
     "output_type": "stream",
     "text": [
      "['sarah was able to help me find the items i needed quickly']\n"
     ]
    }
   ],
   "source": [
    "print(y_review)"
   ]
  },
  {
   "cell_type": "code",
   "execution_count": 157,
   "id": "9857f47b-c991-4ffa-8f09-97167ac186b1",
   "metadata": {},
   "outputs": [],
   "source": [
    "np_punch_review=[]\n",
    "pattern_to_find=r\"[^\\w\\s]\""
   ]
  },
  {
   "cell_type": "code",
   "execution_count": 159,
   "id": "0f448083-0724-4e9f-bb4e-ffe9ab3ae571",
   "metadata": {},
   "outputs": [],
   "source": [
    "for string in customer_reviews:\n",
    "    if(re.search(pattern_to_find,string)):\n",
    "        np_punch_review.append(string)"
   ]
  },
  {
   "cell_type": "code",
   "execution_count": 161,
   "id": "0dce90a6-3e34-4ad7-9783-556e11e3c8fc",
   "metadata": {},
   "outputs": [
    {
     "name": "stdout",
     "output_type": "stream",
     "text": [
      "['the cashier was very rude to me, I think her name was eleanor', 'amazing work from sadeen!', 'sarah was able to help me find the i&tems i needed quickly']\n"
     ]
    }
   ],
   "source": [
    "print(np_punch_review)"
   ]
  },
  {
   "cell_type": "code",
   "execution_count": null,
   "id": "90c90a46-8691-448b-959e-c719165b1539",
   "metadata": {},
   "outputs": [],
   "source": []
  }
 ],
 "metadata": {
  "kernelspec": {
   "display_name": "Python [conda env:base] *",
   "language": "python",
   "name": "conda-base-py"
  },
  "language_info": {
   "codemirror_mode": {
    "name": "ipython",
    "version": 3
   },
   "file_extension": ".py",
   "mimetype": "text/x-python",
   "name": "python",
   "nbconvert_exporter": "python",
   "pygments_lexer": "ipython3",
   "version": "3.12.7"
  }
 },
 "nbformat": 4,
 "nbformat_minor": 5
}

{
 "cells": [
  {
   "cell_type": "code",
   "execution_count": null,
   "id": "59fd5e22-5568-4cd2-b1ee-e018014cde36",
   "metadata": {},
   "outputs": [],
   "source": []
  }
 ],
 "metadata": {
  "kernelspec": {
   "display_name": "",
   "name": ""
  },
  "language_info": {
   "name": ""
  }
 },
 "nbformat": 4,
 "nbformat_minor": 5
}
